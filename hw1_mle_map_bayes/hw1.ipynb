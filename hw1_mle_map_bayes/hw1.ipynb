{
 "cells": [
  {
   "cell_type": "code",
   "execution_count": 2,
   "metadata": {
    "collapsed": true,
    "deletable": true,
    "editable": true
   },
   "outputs": [],
   "source": [
    "import numpy as np\n",
    "import pandas as pd\n",
    "import sys\n",
    "from numpy.linalg import inv, pinv\n",
    "from numpy import dot\n",
    "from mpl_toolkits.mplot3d import Axes3D\n",
    "import matplotlib.pyplot as plt"
   ]
  },
  {
   "cell_type": "code",
   "execution_count": 17,
   "metadata": {
    "collapsed": false,
    "deletable": true,
    "editable": true
   },
   "outputs": [],
   "source": [
    "csv = pd.read_csv('X_train.csv', header=None, names=['X','Y'])\n",
    "t = pd.read_csv('T_train.csv', header=None, names=['H'])"
   ]
  },
  {
   "cell_type": "code",
   "execution_count": 18,
   "metadata": {
    "collapsed": false,
    "deletable": true,
    "editable": true
   },
   "outputs": [],
   "source": [
    "csv['target'] = t['H']"
   ]
  },
  {
   "cell_type": "code",
   "execution_count": 19,
   "metadata": {
    "collapsed": false,
    "deletable": true,
    "editable": true
   },
   "outputs": [],
   "source": [
    "csv = csv.sample(frac=1)"
   ]
  },
  {
   "cell_type": "code",
   "execution_count": 20,
   "metadata": {
    "collapsed": false,
    "deletable": true,
    "editable": true
   },
   "outputs": [],
   "source": [
    "validation, train = np.split(csv.sample(frac=1), [len(csv)//5])"
   ]
  },
  {
   "cell_type": "code",
   "execution_count": 21,
   "metadata": {
    "collapsed": false,
    "deletable": true,
    "editable": true
   },
   "outputs": [],
   "source": [
    "def n_fold_train_val_split():\n",
    "    train_val = dict()\n",
    "    for i in range(5):\n",
    "        try:\n",
    "            val, tr = (csv.iloc[i*int(0.2*len(csv)): (i+1)*int(0.2*len(csv))], \n",
    "                          csv.drop(range(i*int(0.2*len(csv)), (i+1)*int(0.2*len(csv)))))\n",
    "            train_val[i] = (tr, val)\n",
    "        except IndexError:\n",
    "            this_fold = (csv.iloc[i*int(0.2*len(csv)): len(csv)], \n",
    "                         csv.drop(range(i*int(0.2*len(csv)), len(csv))))\n",
    "            train_val[i] = (tr, val)"
   ]
  },
  {
   "cell_type": "code",
   "execution_count": 22,
   "metadata": {
    "collapsed": true,
    "deletable": true,
    "editable": true
   },
   "outputs": [],
   "source": [
    "validation = validation[:200]\n",
    "train = train[:1000]"
   ]
  },
  {
   "cell_type": "code",
   "execution_count": 23,
   "metadata": {
    "collapsed": true,
    "deletable": true,
    "editable": true
   },
   "outputs": [],
   "source": [
    "class Gaussian2D():\n",
    "    def __init__(self, mean_x, mean_y, variance_x=1, variance_y=1):\n",
    "        self.mean_x = mean_x\n",
    "        self.mean_y = mean_y\n",
    "        self.variance_x = variance_x\n",
    "        self.variance_y = variance_y\n",
    "        self.prob = None\n",
    "        \n",
    "    def probability(self, x, y):\n",
    "        self.prob = (np.exp(-((x-self.mean_x)**2)/(2*self.variance_x**2) - \n",
    "                             ((y-self.mean_y)**2)/(2*self.variance_y**2)))\n",
    "        return self.prob\n",
    "    \n",
    "    def __str__(self):\n",
    "        return 'Gaussian2D with mean {}, {}; variance {}, {}'.format(self.mean_x, self.mean_y, self.variance_x, self.variance_y)"
   ]
  },
  {
   "cell_type": "code",
   "execution_count": 24,
   "metadata": {
    "collapsed": false,
    "deletable": true,
    "editable": true
   },
   "outputs": [],
   "source": [
    "# multiple regression\n",
    "# 座標點值1~1081, 切grid\n",
    "# 假設都由高斯分布組成\n",
    "# mean為坐標點, var隨意設\n",
    "feature_basis = [1] # 1: bias\n",
    "for i in range(200, 1082, 1):\n",
    "    for j in range(1, 1082, 1):\n",
    "        feature_basis.append(Gaussian2D(i, j, 10, 10))\n",
    "for i in range(1, 200, 50):\n",
    "    for j in range(1, 1082, 50):\n",
    "        feature_basis.append(Gaussian2D(i, j, 10, 10))"
   ]
  },
  {
   "cell_type": "code",
   "execution_count": 25,
   "metadata": {
    "collapsed": true,
    "deletable": true,
    "editable": true
   },
   "outputs": [],
   "source": [
    "feature_basis = [1]\n",
    "for index, row in train.iterrows():\n",
    "    feature_basis.append(Gaussian2D(row['X'], row['Y'], 0.1, 0.1))"
   ]
  },
  {
   "cell_type": "code",
   "execution_count": 26,
   "metadata": {
    "collapsed": true,
    "deletable": true,
    "editable": true
   },
   "outputs": [],
   "source": [
    "def create_design_matrix(data, feature_basis):\n",
    "    design_matrix = np.zeros((len(data), len(feature_basis)))\n",
    "    length = design_matrix.shape[1]\n",
    "    for i in range(1, length): # by column, 0th is basis, skip\n",
    "        design_matrix[:,i] = data.apply(lambda row: feature_basis[i].probability(row['X'], row['Y']), axis=1)\n",
    "        done = 80 * i // length\n",
    "        sys.stdout.write(\"\\r[%s%s]\" % ('=' * done, ' ' * (80-done)))\n",
    "    return design_matrix"
   ]
  },
  {
   "cell_type": "code",
   "execution_count": 27,
   "metadata": {
    "collapsed": false,
    "deletable": true,
    "editable": true
   },
   "outputs": [
    {
     "name": "stdout",
     "output_type": "stream",
     "text": [
      "[=============================================================================== ]"
     ]
    },
    {
     "data": {
      "text/plain": [
       "array([[ 0.,  1.,  0., ...,  0.,  0.,  0.],\n",
       "       [ 0.,  0.,  1., ...,  0.,  0.,  0.],\n",
       "       [ 0.,  0.,  0., ...,  0.,  0.,  0.],\n",
       "       ..., \n",
       "       [ 0.,  0.,  0., ...,  1.,  0.,  0.],\n",
       "       [ 0.,  0.,  0., ...,  0.,  1.,  0.],\n",
       "       [ 0.,  0.,  0., ...,  0.,  0.,  1.]])"
      ]
     },
     "execution_count": 27,
     "metadata": {},
     "output_type": "execute_result"
    }
   ],
   "source": [
    "design_matrix = create_design_matrix(train, feature_basis)\n",
    "design_matrix"
   ]
  },
  {
   "cell_type": "code",
   "execution_count": 29,
   "metadata": {
    "collapsed": false,
    "deletable": true,
    "editable": true
   },
   "outputs": [
    {
     "data": {
      "text/plain": [
       "array([ -3.42496567e-14,   0.00000000e+00,   0.00000000e+00, ...,\n",
       "         2.86000000e+02,   1.60000000e+01,   0.00000000e+00])"
      ]
     },
     "execution_count": 29,
     "metadata": {},
     "output_type": "execute_result"
    }
   ],
   "source": [
    "W_ML = dot(pinv(design_matrix), train['target'])\n",
    "W_ML"
   ]
  },
  {
   "cell_type": "code",
   "execution_count": 30,
   "metadata": {
    "collapsed": true,
    "deletable": true,
    "editable": true
   },
   "outputs": [],
   "source": [
    "def evaluate(W_ML, feature_basis, test_data, design_matrix = None):\n",
    "    if design_matrix is None:\n",
    "        design_matrix = create_design_matrix(test_data, feature_basis)\n",
    "    for i in range(len(W_ML)):\n",
    "        design_matrix[:,i] *= W_ML[i]\n",
    "    err = 0\n",
    "    for i in range(len(design_matrix)):\n",
    "        err += (np.sum(design_matrix[i:]) - test_data['target'].iloc[i])**2\n",
    "    err /= len(design_matrix)\n",
    "    return err"
   ]
  },
  {
   "cell_type": "code",
   "execution_count": 31,
   "metadata": {
    "collapsed": false,
    "deletable": true,
    "editable": true
   },
   "outputs": [
    {
     "data": {
      "text/plain": [
       "2434257143.348"
      ]
     },
     "execution_count": 31,
     "metadata": {},
     "output_type": "execute_result"
    }
   ],
   "source": [
    "evaluate(W_ML, feature_basis, train, design_matrix)"
   ]
  },
  {
   "cell_type": "raw",
   "metadata": {
    "deletable": true,
    "editable": true
   },
   "source": [
    "1887168352.1948056\n",
    "1878499379.707"
   ]
  },
  {
   "cell_type": "code",
   "execution_count": null,
   "metadata": {
    "collapsed": true,
    "deletable": true,
    "editable": true
   },
   "outputs": [],
   "source": []
  },
  {
   "cell_type": "code",
   "execution_count": 37,
   "metadata": {
    "collapsed": false,
    "deletable": true,
    "editable": true
   },
   "outputs": [],
   "source": [
    "# 先假設為multivariate gaussian\n",
    "mu = 1/len(train)*(train[['X', 'Y']].sum())"
   ]
  },
  {
   "cell_type": "code",
   "execution_count": 71,
   "metadata": {
    "collapsed": false,
    "deletable": true,
    "editable": true
   },
   "outputs": [],
   "source": [
    "cov = np.zeros((2,2))\n",
    "for row in np.array(train[['X', 'Y']]-mu):\n",
    "    cov += np.dot(row.reshape(2,1), row.reshape(2,1).T)\n",
    "cov /= len(train)"
   ]
  },
  {
   "cell_type": "code",
   "execution_count": null,
   "metadata": {
    "collapsed": true,
    "deletable": true,
    "editable": true
   },
   "outputs": [],
   "source": []
  }
 ],
 "metadata": {
  "kernelspec": {
   "display_name": "Python 3",
   "language": "python",
   "name": "python3"
  },
  "language_info": {
   "codemirror_mode": {
    "name": "ipython",
    "version": 3
   },
   "file_extension": ".py",
   "mimetype": "text/x-python",
   "name": "python",
   "nbconvert_exporter": "python",
   "pygments_lexer": "ipython3",
   "version": "3.6.0"
  }
 },
 "nbformat": 4,
 "nbformat_minor": 2
}
