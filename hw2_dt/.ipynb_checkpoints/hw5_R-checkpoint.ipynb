{
 "cells": [
  {
   "cell_type": "code",
   "execution_count": 29,
   "metadata": {
    "collapsed": false,
    "deletable": true,
    "editable": true
   },
   "outputs": [
    {
     "name": "stderr",
     "output_type": "stream",
     "text": [
      "Installing package into ‘/Users/goldflower/Library/R/3.3/library’\n",
      "(as ‘lib’ is unspecified)\n",
      "also installing the dependencies ‘colorspace’, ‘RColorBrewer’, ‘dichromat’, ‘munsell’, ‘labeling’, ‘gtable’, ‘plyr’, ‘reshape2’, ‘scales’, ‘tibble’, ‘lazyeval’\n",
      "\n"
     ]
    },
    {
     "name": "stdout",
     "output_type": "stream",
     "text": [
      "\n",
      "The downloaded binary packages are in\n",
      "\t/var/folders/_w/fbj5jjl17qb55bl82xw4fkq80000gn/T//RtmpPxwpZb/downloaded_packages\n"
     ]
    },
    {
     "name": "stderr",
     "output_type": "stream",
     "text": [
      "\n",
      "Attaching package: ‘ggplot2’\n",
      "\n",
      "The following object is masked from ‘package:randomForest’:\n",
      "\n",
      "    margin\n",
      "\n"
     ]
    }
   ],
   "source": [
    "#install.packages(\"randomForest\")\n",
    "#install.packages(\"party\")\n",
    "#install.packages('ggplot2')\n",
    "library(\"party\")\n",
    "library(\"randomForest\")\n",
    "library('ggplot2')"
   ]
  },
  {
   "cell_type": "code",
   "execution_count": 2,
   "metadata": {
    "collapsed": false,
    "deletable": true,
    "editable": true
   },
   "outputs": [
    {
     "name": "stderr",
     "output_type": "stream",
     "text": [
      "Loading required package: tree\n",
      "Loading required package: plotrix\n"
     ]
    }
   ],
   "source": [
    "# options(repos='http://cran.rstudio.org')\n",
    "# have.packages <- installed.packages()\n",
    "# cran.packages <- c('devtools','plotrix','randomForest','tree')\n",
    "# to.install <- setdiff(cran.packages, have.packages[,1])\n",
    "# if(length(to.install)>0) install.packages(to.install)\n",
    "\n",
    "# library(devtools)\n",
    "# if(!('reprtree' %in% installed.packages())){\n",
    "#   install_github('araastat/reprtree')\n",
    "# }\n",
    "# for(p in c(cran.packages, 'reprtree')) eval(substitute(library(pkg), list(pkg=p)))\n",
    "library(reprtree)"
   ]
  },
  {
   "cell_type": "code",
   "execution_count": 247,
   "metadata": {
    "collapsed": false,
    "deletable": true,
    "editable": true
   },
   "outputs": [],
   "source": [
    "#32\n",
    "X = read.csv('X_train_encoded.csv', header = F)\n",
    "t = read.csv('data/T_train.csv', header=F)"
   ]
  },
  {
   "cell_type": "code",
   "execution_count": 248,
   "metadata": {
    "collapsed": true,
    "deletable": true,
    "editable": true
   },
   "outputs": [],
   "source": [
    "test_X = read.csv('X_test_encoded.csv', header = F)\n",
    "test_t = read.csv('data/T_test.csv', header=F)"
   ]
  },
  {
   "cell_type": "code",
   "execution_count": 232,
   "metadata": {
    "collapsed": true
   },
   "outputs": [],
   "source": [
    "# 784\n",
    "X = read.csv('data/X_train.csv', header = F)\n",
    "t = read.csv('data/T_train.csv', header=F)"
   ]
  },
  {
   "cell_type": "code",
   "execution_count": 233,
   "metadata": {
    "collapsed": true
   },
   "outputs": [],
   "source": [
    "test_X = read.csv('data/X_test.csv', header = F)\n",
    "test_t = read.csv('data/T_test.csv', header=F)"
   ]
  },
  {
   "cell_type": "code",
   "execution_count": 5,
   "metadata": {
    "collapsed": false,
    "deletable": true,
    "editable": true
   },
   "outputs": [],
   "source": [
    "?randomForest"
   ]
  },
  {
   "cell_type": "code",
   "execution_count": 235,
   "metadata": {
    "collapsed": true,
    "deletable": true,
    "editable": true
   },
   "outputs": [],
   "source": [
    "sample_size = nrow(X)/2"
   ]
  },
  {
   "cell_type": "code",
   "execution_count": 251,
   "metadata": {
    "collapsed": false,
    "deletable": true,
    "editable": true
   },
   "outputs": [],
   "source": [
    "train = X\n",
    "train[\"target\"] = t"
   ]
  },
  {
   "cell_type": "markdown",
   "metadata": {},
   "source": [
    "在R中, random forest挑選用以分割的attribute的依據並非用entropy和information gain, 而是gini index和gini gain"
   ]
  },
  {
   "cell_type": "markdown",
   "metadata": {},
   "source": [
    "## Gini Index\n",
    "\n",
    "$假設資料集合S包含n個類別, 則$gini index$定義為$ \n",
    "    \n",
    "$Gini(S) = 1 - \\sum_{n \\in S} p_{i}^{2}$"
   ]
  },
  {
   "cell_type": "markdown",
   "metadata": {},
   "source": [
    "## Gini Gain\n",
    "\n",
    "$令資料集合S包含n個類別, 對於S用屬性A分割為數個S_i, 則$gini gain$定義為$\n",
    "\n",
    "$GiniGain(A, S) = Gini(S) - Gini(A,S) = Gini(S) - \\sum_{n \\in S} \\frac{|S_n|}{|S|}{Gini(S_n)}$"
   ]
  },
  {
   "cell_type": "markdown",
   "metadata": {},
   "source": [
    "example: 預測是否下雨\n",
    "    \n",
    "    attribute為wind, 分為weak和strong, weak有八筆資料, 6+ 2-\n",
    "                                     strong有六筆資料, 3+ 3-\n",
    "    gini index = 1-((9/14)^2 + (5/14)^2) = 0.429 # 分割前\n",
    "    gini(wind=weak) = 1-((6/8)^2 + (3/6)^2)\n",
    "    gini(wind=strong) = 1-((3/6)^2 + (3/6)^2)\n",
    "    gini (wind) = (8/14)*gini(wind=weak) + (6/14)*gini(wind=strong) # 分割後\n",
    "    gini gain = gini index(分割前) - gini index(分割後) < 0\n",
    "    => 此例中以wind做分割反而更差"
   ]
  },
  {
   "cell_type": "code",
   "execution_count": 252,
   "metadata": {
    "collapsed": false,
    "deletable": true,
    "editable": true
   },
   "outputs": [],
   "source": [
    "# 100 trees, min splitting node=1000, sample_size=50%, gini gain\n",
    "sample_size=nrow(train)/2\n",
    "clf = randomForest(as.factor(target)~., data=train, sampsize = sample_size, ntree=100, nodesize=1, importance=T)"
   ]
  },
  {
   "cell_type": "code",
   "execution_count": 253,
   "metadata": {
    "collapsed": false
   },
   "outputs": [
    {
     "name": "stdout",
     "output_type": "stream",
     "text": [
      "[1] 0.8514\n",
      "[1] 0.203\n",
      "[1] 0.859\n",
      "[1] 0.1992\n",
      "[1] 0.8502\n",
      "[1] 0.2018\n"
     ]
    }
   ],
   "source": [
    "# plot 3 decision trees and compute accuracy respectively\n",
    "test_prediction = predict(clf, test_X, predict.all=T)\n",
    "train_prediction = predict(clf, X, predict.all=T)\n",
    "for (i in c(1,2,3)){\n",
    "    #reprtree:::plot.getTree(clf, k=i)\n",
    "    train_result = table(data.frame(train_prediction$individual[, c(i)]==t))\n",
    "    test_result = table(data.frame(test_prediction$individual[, c(i)]==t))\n",
    "    train_acc = as.double(train_result['TRUE'] / (train_result['TRUE']+train_result['FALSE']))\n",
    "    test_acc = as.double(test_result['TRUE'] / (test_result['TRUE']+test_result['FALSE']))\n",
    "    print(train_acc)\n",
    "    print(test_acc)\n",
    "}"
   ]
  },
  {
   "cell_type": "code",
   "execution_count": 246,
   "metadata": {
    "collapsed": false,
    "scrolled": true
   },
   "outputs": [
    {
     "name": "stdout",
     "output_type": "stream",
     "text": [
      "[1] \"nodesize:  1\"\n",
      "[1] 0.9992\n",
      "[1] 0.9644\n",
      "[1] \"nodesize:  100\"\n",
      "[1] 0.9562\n",
      "[1] 0.9372\n",
      "[1] \"nodesize:  200\"\n",
      "[1] 0.9406\n",
      "[1] 0.9272\n",
      "[1] \"nodesize:  300\"\n",
      "[1] 0.9238\n",
      "[1] 0.9148\n",
      "[1] \"nodesize:  400\"\n",
      "[1] 0.9126\n",
      "[1] 0.9024\n",
      "[1] \"nodesize:  500\"\n",
      "[1] 0.898\n",
      "[1] 0.8924\n",
      "[1] \"nodesize:  600\"\n",
      "[1] 0.8756\n",
      "[1] 0.8708\n",
      "[1] \"nodesize:  700\"\n",
      "[1] 0.7978\n",
      "[1] 0.79\n",
      "[1] \"nodesize:  800\"\n",
      "[1] 0.782\n",
      "[1] 0.7808\n",
      "[1] \"nodesize:  900\"\n",
      "[1] 0.6552\n",
      "[1] 0.644\n",
      "[1] \"nodesize:  1000\"\n",
      "[1] 0.581\n",
      "[1] 0.5788\n",
      "[1] \"nodesize:  1100\"\n",
      "[1] 0.554\n",
      "[1] 0.5556\n",
      "[1] \"nodesize:  1200\"\n",
      "[1] 0.4686\n",
      "[1] 0.4776\n",
      "[1] \"nodesize:  1400\"\n",
      "[1] 0.4046\n",
      "[1] 0.4032\n",
      "[1] \"nodesize:  1600\"\n",
      "[1] 0.3958\n",
      "[1] 0.396\n",
      "[1] \"nodesize:  1800\"\n",
      "[1] 0.3916\n",
      "[1] 0.3924\n",
      "[1] \"nodesize:  2000\"\n",
      "[1] 0.394\n",
      "[1] 0.396\n"
     ]
    }
   ],
   "source": [
    "# fix #trees=100, sample=50%\n",
    "# adjust node size\n",
    "sample_size=nrow(train)/2\n",
    "num_leaf_sizes = c()\n",
    "train_accs = c()\n",
    "test_accs = c()\n",
    "for (nodesize in c(1, 100, 200, 300, 400, 500, 600, 700, 800, 900, 1000, 1100, 1200, 1400, 1600, 1800, 2000)){\n",
    "    # 100 trees, min splitting node=nodesize, sample_size=50%, gini gain\n",
    "    clf = randomForest(as.factor(target)~., data=train, sampsize = sample_size, ntree=100, nodesize=nodesize, importance=T)\n",
    "    test_prediction = predict(clf, test_X, predict.all=T)\n",
    "    train_prediction = predict(clf, X, predict.all=T)\n",
    "    train_result = table(data.frame(train_prediction$aggregate)==t)\n",
    "    test_result = table(data.frame(test_prediction$aggregate)==test_t)\n",
    "    train_acc = as.double((train_result['TRUE'])/((train_result['FALSE'] + train_result['TRUE'])))\n",
    "    test_acc = as.double((test_result['TRUE'])/((test_result['FALSE'] + test_result['TRUE'])))\n",
    "    num_leaf_sizes = c(num_leaf_sizes, nodesize)\n",
    "    train_accs = c(train_accs, train_acc)\n",
    "    test_accs = c(test_accs, test_acc)\n",
    "    print(paste(\"nodesize: \", toString(nodesize)))\n",
    "    print(train_acc)\n",
    "    print(test_acc)\n",
    "}\n",
    "node_size_result = as.data.frame(num_leaf_sizes)\n",
    "node_size_result[\"train_accs\"] = train_accs\n",
    "node_size_result[\"test_accs\"] = test_accs"
   ]
  },
  {
   "cell_type": "code",
   "execution_count": 216,
   "metadata": {
    "collapsed": false
   },
   "outputs": [
    {
     "data": {
      "text/html": [
       "<ol class=list-inline>\n",
       "\t<li>1</li>\n",
       "\t<li>100</li>\n",
       "\t<li>200</li>\n",
       "\t<li>300</li>\n",
       "\t<li>400</li>\n",
       "\t<li>500</li>\n",
       "\t<li>600</li>\n",
       "\t<li>700</li>\n",
       "\t<li>800</li>\n",
       "\t<li>900</li>\n",
       "\t<li>1000</li>\n",
       "\t<li>1100</li>\n",
       "\t<li>1200</li>\n",
       "\t<li>1400</li>\n",
       "\t<li>1600</li>\n",
       "\t<li>1800</li>\n",
       "\t<li>2000</li>\n",
       "</ol>\n"
      ],
      "text/latex": [
       "\\begin{enumerate*}\n",
       "\\item 1\n",
       "\\item 100\n",
       "\\item 200\n",
       "\\item 300\n",
       "\\item 400\n",
       "\\item 500\n",
       "\\item 600\n",
       "\\item 700\n",
       "\\item 800\n",
       "\\item 900\n",
       "\\item 1000\n",
       "\\item 1100\n",
       "\\item 1200\n",
       "\\item 1400\n",
       "\\item 1600\n",
       "\\item 1800\n",
       "\\item 2000\n",
       "\\end{enumerate*}\n"
      ],
      "text/markdown": [
       "1. 1\n",
       "2. 100\n",
       "3. 200\n",
       "4. 300\n",
       "5. 400\n",
       "6. 500\n",
       "7. 600\n",
       "8. 700\n",
       "9. 800\n",
       "10. 900\n",
       "11. 1000\n",
       "12. 1100\n",
       "13. 1200\n",
       "14. 1400\n",
       "15. 1600\n",
       "16. 1800\n",
       "17. 2000\n",
       "\n",
       "\n"
      ],
      "text/plain": [
       " [1]    1  100  200  300  400  500  600  700  800  900 1000 1100 1200 1400 1600\n",
       "[16] 1800 2000"
      ]
     },
     "metadata": {},
     "output_type": "display_data"
    }
   ],
   "source": [
    "num_leaf_sizes"
   ]
  },
  {
   "cell_type": "code",
   "execution_count": 217,
   "metadata": {
    "collapsed": false
   },
   "outputs": [
    {
     "data": {
      "text/html": [
       "<ol class=list-inline>\n",
       "\t<li>0.9992</li>\n",
       "\t<li>0.9316</li>\n",
       "\t<li>0.889</li>\n",
       "\t<li>0.8614</li>\n",
       "\t<li>0.8372</li>\n",
       "\t<li>0.8086</li>\n",
       "\t<li>0.7816</li>\n",
       "\t<li>0.7274</li>\n",
       "\t<li>0.7184</li>\n",
       "\t<li>0.5924</li>\n",
       "\t<li>0.5678</li>\n",
       "\t<li>0.579</li>\n",
       "\t<li>0.5136</li>\n",
       "\t<li>0.3774</li>\n",
       "\t<li>0.3728</li>\n",
       "\t<li>0.4174</li>\n",
       "\t<li>0.4312</li>\n",
       "</ol>\n"
      ],
      "text/latex": [
       "\\begin{enumerate*}\n",
       "\\item 0.9992\n",
       "\\item 0.9316\n",
       "\\item 0.889\n",
       "\\item 0.8614\n",
       "\\item 0.8372\n",
       "\\item 0.8086\n",
       "\\item 0.7816\n",
       "\\item 0.7274\n",
       "\\item 0.7184\n",
       "\\item 0.5924\n",
       "\\item 0.5678\n",
       "\\item 0.579\n",
       "\\item 0.5136\n",
       "\\item 0.3774\n",
       "\\item 0.3728\n",
       "\\item 0.4174\n",
       "\\item 0.4312\n",
       "\\end{enumerate*}\n"
      ],
      "text/markdown": [
       "1. 0.9992\n",
       "2. 0.9316\n",
       "3. 0.889\n",
       "4. 0.8614\n",
       "5. 0.8372\n",
       "6. 0.8086\n",
       "7. 0.7816\n",
       "8. 0.7274\n",
       "9. 0.7184\n",
       "10. 0.5924\n",
       "11. 0.5678\n",
       "12. 0.579\n",
       "13. 0.5136\n",
       "14. 0.3774\n",
       "15. 0.3728\n",
       "16. 0.4174\n",
       "17. 0.4312\n",
       "\n",
       "\n"
      ],
      "text/plain": [
       " [1] 0.9992 0.9316 0.8890 0.8614 0.8372 0.8086 0.7816 0.7274 0.7184 0.5924\n",
       "[11] 0.5678 0.5790 0.5136 0.3774 0.3728 0.4174 0.4312"
      ]
     },
     "metadata": {},
     "output_type": "display_data"
    }
   ],
   "source": [
    "train_accs"
   ]
  },
  {
   "cell_type": "code",
   "execution_count": 218,
   "metadata": {
    "collapsed": false
   },
   "outputs": [
    {
     "data": {
      "text/html": [
       "<ol class=list-inline>\n",
       "\t<li>0.9464</li>\n",
       "\t<li>0.8976</li>\n",
       "\t<li>0.866</li>\n",
       "\t<li>0.8328</li>\n",
       "\t<li>0.8152</li>\n",
       "\t<li>0.784</li>\n",
       "\t<li>0.7528</li>\n",
       "\t<li>0.704</li>\n",
       "\t<li>0.6936</li>\n",
       "\t<li>0.592</li>\n",
       "\t<li>0.552</li>\n",
       "\t<li>0.5688</li>\n",
       "\t<li>0.5108</li>\n",
       "\t<li>0.3748</li>\n",
       "\t<li>0.3644</li>\n",
       "\t<li>0.4204</li>\n",
       "\t<li>0.4264</li>\n",
       "</ol>\n"
      ],
      "text/latex": [
       "\\begin{enumerate*}\n",
       "\\item 0.9464\n",
       "\\item 0.8976\n",
       "\\item 0.866\n",
       "\\item 0.8328\n",
       "\\item 0.8152\n",
       "\\item 0.784\n",
       "\\item 0.7528\n",
       "\\item 0.704\n",
       "\\item 0.6936\n",
       "\\item 0.592\n",
       "\\item 0.552\n",
       "\\item 0.5688\n",
       "\\item 0.5108\n",
       "\\item 0.3748\n",
       "\\item 0.3644\n",
       "\\item 0.4204\n",
       "\\item 0.4264\n",
       "\\end{enumerate*}\n"
      ],
      "text/markdown": [
       "1. 0.9464\n",
       "2. 0.8976\n",
       "3. 0.866\n",
       "4. 0.8328\n",
       "5. 0.8152\n",
       "6. 0.784\n",
       "7. 0.7528\n",
       "8. 0.704\n",
       "9. 0.6936\n",
       "10. 0.592\n",
       "11. 0.552\n",
       "12. 0.5688\n",
       "13. 0.5108\n",
       "14. 0.3748\n",
       "15. 0.3644\n",
       "16. 0.4204\n",
       "17. 0.4264\n",
       "\n",
       "\n"
      ],
      "text/plain": [
       " [1] 0.9464 0.8976 0.8660 0.8328 0.8152 0.7840 0.7528 0.7040 0.6936 0.5920\n",
       "[11] 0.5520 0.5688 0.5108 0.3748 0.3644 0.4204 0.4264"
      ]
     },
     "metadata": {},
     "output_type": "display_data"
    }
   ],
   "source": [
    "test_accs"
   ]
  },
  {
   "cell_type": "code",
   "execution_count": 219,
   "metadata": {
    "collapsed": false,
    "scrolled": true
   },
   "outputs": [
    {
     "name": "stdout",
     "output_type": "stream",
     "text": [
      "[1] \"num trees:  1\"\n",
      "[1] 0.331\n",
      "[1] 0.3524\n",
      "[1] \"num trees:  10\"\n",
      "[1] 0.1448\n",
      "[1] 0.1876\n",
      "[1] \"num trees:  20\"\n",
      "[1] 0.1032\n",
      "[1] 0.14\n",
      "[1] \"num trees:  30\"\n",
      "[1] 0.0824\n",
      "[1] 0.1148\n",
      "[1] \"num trees:  40\"\n",
      "[1] 0.0844\n",
      "[1] 0.1176\n",
      "[1] \"num trees:  50\"\n",
      "[1] 0.08\n",
      "[1] 0.11\n",
      "[1] \"num trees:  60\"\n",
      "[1] 0.073\n",
      "[1] 0.1024\n",
      "[1] \"num trees:  70\"\n",
      "[1] 0.0694\n",
      "[1] 0.1076\n",
      "[1] \"num trees:  80\"\n",
      "[1] 0.0654\n",
      "[1] 0.0964\n",
      "[1] \"num trees:  90\"\n",
      "[1] 0.078\n",
      "[1] 0.1088\n",
      "[1] \"num trees:  100\"\n",
      "[1] 0.078\n",
      "[1] 0.1096\n",
      "[1] \"num trees:  200\"\n",
      "[1] 0.0628\n",
      "[1] 0.0928\n",
      "[1] \"num trees:  300\"\n",
      "[1] 0.0636\n",
      "[1] 0.098\n",
      "[1] \"num trees:  400\"\n",
      "[1] 0.0666\n",
      "[1] 0.0964\n",
      "[1] \"num trees:  500\"\n",
      "[1] 0.0656\n",
      "[1] 0.0948\n",
      "[1] \"num trees:  600\"\n",
      "[1] 0.0642\n",
      "[1] 0.0964\n",
      "[1] \"num trees:  700\"\n",
      "[1] 0.065\n",
      "[1] 0.0956\n",
      "[1] \"num trees:  800\"\n",
      "[1] 0.0636\n",
      "[1] 0.0984\n",
      "[1] \"num trees:  900\"\n",
      "[1] 0.065\n",
      "[1] 0.096\n",
      "[1] \"num trees:  1000\"\n",
      "[1] 0.0646\n",
      "[1] 0.0992\n"
     ]
    }
   ],
   "source": [
    "# fix #node size=100, sample =50%\n",
    "# adjust number of trees\n",
    "num_trees = c()\n",
    "num_trees_train_accs = c()\n",
    "num_trees_test_accs = c()\n",
    "for (num_tree in c(1, 10, 20, 30, 40, 50, 60, 70, 80, 90, 100, 200, 300, 400, 500, 600, 700, 800, 900, 1000)){\n",
    "    # 100 trees, min splitting node=nodesize, sample_size=50%, gini gain\n",
    "    clf = randomForest(as.factor(target)~., data=train, sampsize = sample_size, ntree=num_tree, nodesize=100, importance=T)\n",
    "    test_prediction = predict(clf, test_X, predict.all=T)\n",
    "    train_prediction = predict(clf, X, predict.all=T)\n",
    "    train_result = table(data.frame(train_prediction$aggregate)==t)\n",
    "    test_result = table(data.frame(test_prediction$aggregate)==test_t)\n",
    "    train_err = as.double((train_result['FALSE'])/((train_result['FALSE'] + train_result['TRUE'])))\n",
    "    test_err = as.double((test_result['FALSE'])/((test_result['FALSE'] + test_result['TRUE'])))\n",
    "    num_trees = c(num_trees, num_tree)\n",
    "    num_trees_train_accs = c(num_trees_train_accs, train_err)\n",
    "    num_trees_test_accs = c(num_trees_test_accs, test_err)\n",
    "    print(paste(\"num trees: \", toString(num_tree)))\n",
    "    print(train_err)\n",
    "    print(test_err)\n",
    "}\n",
    "# num_trees_result = as.data.frame(num_trees)\n",
    "# num_trees_result[\"train_errs\"] = train_errs\n",
    "# num_trees_result[\"test_errs\"] = test_errs"
   ]
  },
  {
   "cell_type": "code",
   "execution_count": 223,
   "metadata": {
    "collapsed": false
   },
   "outputs": [
    {
     "data": {
      "text/html": [
       "<ol class=list-inline>\n",
       "\t<li>1</li>\n",
       "\t<li>10</li>\n",
       "\t<li>20</li>\n",
       "\t<li>30</li>\n",
       "\t<li>40</li>\n",
       "\t<li>50</li>\n",
       "\t<li>60</li>\n",
       "\t<li>70</li>\n",
       "\t<li>80</li>\n",
       "\t<li>90</li>\n",
       "\t<li>100</li>\n",
       "\t<li>200</li>\n",
       "\t<li>300</li>\n",
       "\t<li>400</li>\n",
       "\t<li>500</li>\n",
       "\t<li>600</li>\n",
       "\t<li>700</li>\n",
       "\t<li>800</li>\n",
       "\t<li>900</li>\n",
       "\t<li>1000</li>\n",
       "</ol>\n"
      ],
      "text/latex": [
       "\\begin{enumerate*}\n",
       "\\item 1\n",
       "\\item 10\n",
       "\\item 20\n",
       "\\item 30\n",
       "\\item 40\n",
       "\\item 50\n",
       "\\item 60\n",
       "\\item 70\n",
       "\\item 80\n",
       "\\item 90\n",
       "\\item 100\n",
       "\\item 200\n",
       "\\item 300\n",
       "\\item 400\n",
       "\\item 500\n",
       "\\item 600\n",
       "\\item 700\n",
       "\\item 800\n",
       "\\item 900\n",
       "\\item 1000\n",
       "\\end{enumerate*}\n"
      ],
      "text/markdown": [
       "1. 1\n",
       "2. 10\n",
       "3. 20\n",
       "4. 30\n",
       "5. 40\n",
       "6. 50\n",
       "7. 60\n",
       "8. 70\n",
       "9. 80\n",
       "10. 90\n",
       "11. 100\n",
       "12. 200\n",
       "13. 300\n",
       "14. 400\n",
       "15. 500\n",
       "16. 600\n",
       "17. 700\n",
       "18. 800\n",
       "19. 900\n",
       "20. 1000\n",
       "\n",
       "\n"
      ],
      "text/plain": [
       " [1]    1   10   20   30   40   50   60   70   80   90  100  200  300  400  500\n",
       "[16]  600  700  800  900 1000"
      ]
     },
     "metadata": {},
     "output_type": "display_data"
    }
   ],
   "source": [
    "num_trees"
   ]
  },
  {
   "cell_type": "code",
   "execution_count": 224,
   "metadata": {
    "collapsed": false
   },
   "outputs": [
    {
     "data": {
      "text/html": [
       "<ol class=list-inline>\n",
       "\t<li>0.669</li>\n",
       "\t<li>0.8552</li>\n",
       "\t<li>0.8968</li>\n",
       "\t<li>0.9176</li>\n",
       "\t<li>0.9156</li>\n",
       "\t<li>0.92</li>\n",
       "\t<li>0.927</li>\n",
       "\t<li>0.9306</li>\n",
       "\t<li>0.9346</li>\n",
       "\t<li>0.922</li>\n",
       "\t<li>0.922</li>\n",
       "\t<li>0.9372</li>\n",
       "\t<li>0.9364</li>\n",
       "\t<li>0.9334</li>\n",
       "\t<li>0.9344</li>\n",
       "\t<li>0.9358</li>\n",
       "\t<li>0.935</li>\n",
       "\t<li>0.9364</li>\n",
       "\t<li>0.935</li>\n",
       "\t<li>0.9354</li>\n",
       "</ol>\n"
      ],
      "text/latex": [
       "\\begin{enumerate*}\n",
       "\\item 0.669\n",
       "\\item 0.8552\n",
       "\\item 0.8968\n",
       "\\item 0.9176\n",
       "\\item 0.9156\n",
       "\\item 0.92\n",
       "\\item 0.927\n",
       "\\item 0.9306\n",
       "\\item 0.9346\n",
       "\\item 0.922\n",
       "\\item 0.922\n",
       "\\item 0.9372\n",
       "\\item 0.9364\n",
       "\\item 0.9334\n",
       "\\item 0.9344\n",
       "\\item 0.9358\n",
       "\\item 0.935\n",
       "\\item 0.9364\n",
       "\\item 0.935\n",
       "\\item 0.9354\n",
       "\\end{enumerate*}\n"
      ],
      "text/markdown": [
       "1. 0.669\n",
       "2. 0.8552\n",
       "3. 0.8968\n",
       "4. 0.9176\n",
       "5. 0.9156\n",
       "6. 0.92\n",
       "7. 0.927\n",
       "8. 0.9306\n",
       "9. 0.9346\n",
       "10. 0.922\n",
       "11. 0.922\n",
       "12. 0.9372\n",
       "13. 0.9364\n",
       "14. 0.9334\n",
       "15. 0.9344\n",
       "16. 0.9358\n",
       "17. 0.935\n",
       "18. 0.9364\n",
       "19. 0.935\n",
       "20. 0.9354\n",
       "\n",
       "\n"
      ],
      "text/plain": [
       " [1] 0.6690 0.8552 0.8968 0.9176 0.9156 0.9200 0.9270 0.9306 0.9346 0.9220\n",
       "[11] 0.9220 0.9372 0.9364 0.9334 0.9344 0.9358 0.9350 0.9364 0.9350 0.9354"
      ]
     },
     "metadata": {},
     "output_type": "display_data"
    }
   ],
   "source": [
    "1- num_trees_train_accs"
   ]
  },
  {
   "cell_type": "code",
   "execution_count": 225,
   "metadata": {
    "collapsed": false
   },
   "outputs": [
    {
     "data": {
      "text/html": [
       "<ol class=list-inline>\n",
       "\t<li>0.6476</li>\n",
       "\t<li>0.8124</li>\n",
       "\t<li>0.86</li>\n",
       "\t<li>0.8852</li>\n",
       "\t<li>0.8824</li>\n",
       "\t<li>0.89</li>\n",
       "\t<li>0.8976</li>\n",
       "\t<li>0.8924</li>\n",
       "\t<li>0.9036</li>\n",
       "\t<li>0.8912</li>\n",
       "\t<li>0.8904</li>\n",
       "\t<li>0.9072</li>\n",
       "\t<li>0.902</li>\n",
       "\t<li>0.9036</li>\n",
       "\t<li>0.9052</li>\n",
       "\t<li>0.9036</li>\n",
       "\t<li>0.9044</li>\n",
       "\t<li>0.9016</li>\n",
       "\t<li>0.904</li>\n",
       "\t<li>0.9008</li>\n",
       "</ol>\n"
      ],
      "text/latex": [
       "\\begin{enumerate*}\n",
       "\\item 0.6476\n",
       "\\item 0.8124\n",
       "\\item 0.86\n",
       "\\item 0.8852\n",
       "\\item 0.8824\n",
       "\\item 0.89\n",
       "\\item 0.8976\n",
       "\\item 0.8924\n",
       "\\item 0.9036\n",
       "\\item 0.8912\n",
       "\\item 0.8904\n",
       "\\item 0.9072\n",
       "\\item 0.902\n",
       "\\item 0.9036\n",
       "\\item 0.9052\n",
       "\\item 0.9036\n",
       "\\item 0.9044\n",
       "\\item 0.9016\n",
       "\\item 0.904\n",
       "\\item 0.9008\n",
       "\\end{enumerate*}\n"
      ],
      "text/markdown": [
       "1. 0.6476\n",
       "2. 0.8124\n",
       "3. 0.86\n",
       "4. 0.8852\n",
       "5. 0.8824\n",
       "6. 0.89\n",
       "7. 0.8976\n",
       "8. 0.8924\n",
       "9. 0.9036\n",
       "10. 0.8912\n",
       "11. 0.8904\n",
       "12. 0.9072\n",
       "13. 0.902\n",
       "14. 0.9036\n",
       "15. 0.9052\n",
       "16. 0.9036\n",
       "17. 0.9044\n",
       "18. 0.9016\n",
       "19. 0.904\n",
       "20. 0.9008\n",
       "\n",
       "\n"
      ],
      "text/plain": [
       " [1] 0.6476 0.8124 0.8600 0.8852 0.8824 0.8900 0.8976 0.8924 0.9036 0.8912\n",
       "[11] 0.8904 0.9072 0.9020 0.9036 0.9052 0.9036 0.9044 0.9016 0.9040 0.9008"
      ]
     },
     "metadata": {},
     "output_type": "display_data"
    }
   ],
   "source": [
    "1-num_trees_test_accs"
   ]
  },
  {
   "cell_type": "code",
   "execution_count": 186,
   "metadata": {
    "collapsed": false,
    "scrolled": true
   },
   "outputs": [
    {
     "name": "stdout",
     "output_type": "stream",
     "text": [
      "[1] \"samples:  100\"\n",
      "[1] 0.0872\n",
      "[1] 0.108\n",
      "[1] \"samples:  200\"\n",
      "[1] 0.0872\n",
      "[1] 0.108\n",
      "[1] \"samples:  300\"\n",
      "[1] 0.0872\n",
      "[1] 0.108\n",
      "[1] \"samples:  400\"\n",
      "[1] 0.0872\n",
      "[1] 0.108\n",
      "[1] \"samples:  500\"\n",
      "[1] 0.0872\n",
      "[1] 0.108\n",
      "[1] \"samples:  1000\"\n",
      "[1] 0.0872\n",
      "[1] 0.108\n",
      "[1] \"samples:  1500\"\n",
      "[1] 0.0872\n",
      "[1] 0.108\n",
      "[1] \"samples:  2000\"\n",
      "[1] 0.0872\n",
      "[1] 0.108\n",
      "[1] \"samples:  2500\"\n",
      "[1] 0.0872\n",
      "[1] 0.108\n",
      "[1] \"samples:  3000\"\n",
      "[1] 0.0872\n",
      "[1] 0.108\n",
      "[1] \"samples:  4000\"\n",
      "[1] 0.0872\n",
      "[1] 0.108\n",
      "[1] \"samples:  5000\"\n",
      "[1] 0.0872\n",
      "[1] 0.108\n"
     ]
    }
   ],
   "source": [
    "# fix # of trees=100, node size=100\n",
    "# adjust sample size\n",
    "sample_fractions = c()\n",
    "num_samples_train_accs = c()\n",
    "num_samples_test_accs = c()\n",
    "for (sample_size in c(100, 200, 300, 400, 500, 1000, 1500, 2000, 2500, 3000, 4000, 5000)){\n",
    "    clf = randomForest(as.factor(target)~., data=train, sampsize = sample_size, ntree=100, nodesize=100, importance=T)\n",
    "    test_prediction = predict(clf, test_X, predict.all=T)\n",
    "    train_prediction = predict(clf, X, predict.all=T)\n",
    "    train_result = table(data.frame(train_prediction$aggregate)==t)\n",
    "    test_result = table(data.frame(test_prediction$aggregate)==test_t)\n",
    "    train_acc = as.double((train_result['TRUE'])/((train_result['FALSE'] + train_result['TRUE'])))\n",
    "    test_acc = as.double((test_result['TRUE'])/((test_result['FALSE'] + test_result['TRUE'])))\n",
    "    sample_fractions = c(sample_fractions, sample_size/nrow(X))\n",
    "    num_samples_train_accs = c(num_samples_train_accs, train_acc)\n",
    "    num_samples_test_accs = c(num_samples_test_accs, test_acc)\n",
    "    print(paste(\"samples: \", toString(sample_size)))\n",
    "    print(train_err)\n",
    "    print(test_err)    \n",
    "}"
   ]
  },
  {
   "cell_type": "code",
   "execution_count": 189,
   "metadata": {
    "collapsed": false
   },
   "outputs": [
    {
     "data": {
      "text/html": [
       "<ol class=list-inline>\n",
       "\t<li>0.02</li>\n",
       "\t<li>0.04</li>\n",
       "\t<li>0.06</li>\n",
       "\t<li>0.08</li>\n",
       "\t<li>0.1</li>\n",
       "\t<li>0.2</li>\n",
       "\t<li>0.3</li>\n",
       "\t<li>0.4</li>\n",
       "\t<li>0.5</li>\n",
       "\t<li>0.6</li>\n",
       "\t<li>0.8</li>\n",
       "\t<li>1</li>\n",
       "</ol>\n"
      ],
      "text/latex": [
       "\\begin{enumerate*}\n",
       "\\item 0.02\n",
       "\\item 0.04\n",
       "\\item 0.06\n",
       "\\item 0.08\n",
       "\\item 0.1\n",
       "\\item 0.2\n",
       "\\item 0.3\n",
       "\\item 0.4\n",
       "\\item 0.5\n",
       "\\item 0.6\n",
       "\\item 0.8\n",
       "\\item 1\n",
       "\\end{enumerate*}\n"
      ],
      "text/markdown": [
       "1. 0.02\n",
       "2. 0.04\n",
       "3. 0.06\n",
       "4. 0.08\n",
       "5. 0.1\n",
       "6. 0.2\n",
       "7. 0.3\n",
       "8. 0.4\n",
       "9. 0.5\n",
       "10. 0.6\n",
       "11. 0.8\n",
       "12. 1\n",
       "\n",
       "\n"
      ],
      "text/plain": [
       " [1] 0.02 0.04 0.06 0.08 0.10 0.20 0.30 0.40 0.50 0.60 0.80 1.00"
      ]
     },
     "metadata": {},
     "output_type": "display_data"
    }
   ],
   "source": [
    "sample_fractions"
   ]
  },
  {
   "cell_type": "code",
   "execution_count": 190,
   "metadata": {
    "collapsed": false
   },
   "outputs": [
    {
     "data": {
      "text/html": [
       "<ol class=list-inline>\n",
       "\t<li>0.5876</li>\n",
       "\t<li>0.6494</li>\n",
       "\t<li>0.789</li>\n",
       "\t<li>0.8178</li>\n",
       "\t<li>0.8448</li>\n",
       "\t<li>0.8696</li>\n",
       "\t<li>0.8916</li>\n",
       "\t<li>0.8962</li>\n",
       "\t<li>0.9186</li>\n",
       "\t<li>0.921</li>\n",
       "\t<li>0.935</li>\n",
       "\t<li>0.9396</li>\n",
       "</ol>\n"
      ],
      "text/latex": [
       "\\begin{enumerate*}\n",
       "\\item 0.5876\n",
       "\\item 0.6494\n",
       "\\item 0.789\n",
       "\\item 0.8178\n",
       "\\item 0.8448\n",
       "\\item 0.8696\n",
       "\\item 0.8916\n",
       "\\item 0.8962\n",
       "\\item 0.9186\n",
       "\\item 0.921\n",
       "\\item 0.935\n",
       "\\item 0.9396\n",
       "\\end{enumerate*}\n"
      ],
      "text/markdown": [
       "1. 0.5876\n",
       "2. 0.6494\n",
       "3. 0.789\n",
       "4. 0.8178\n",
       "5. 0.8448\n",
       "6. 0.8696\n",
       "7. 0.8916\n",
       "8. 0.8962\n",
       "9. 0.9186\n",
       "10. 0.921\n",
       "11. 0.935\n",
       "12. 0.9396\n",
       "\n",
       "\n"
      ],
      "text/plain": [
       " [1] 0.5876 0.6494 0.7890 0.8178 0.8448 0.8696 0.8916 0.8962 0.9186 0.9210\n",
       "[11] 0.9350 0.9396"
      ]
     },
     "metadata": {},
     "output_type": "display_data"
    }
   ],
   "source": [
    "num_samples_train_accs"
   ]
  },
  {
   "cell_type": "code",
   "execution_count": 191,
   "metadata": {
    "collapsed": false
   },
   "outputs": [
    {
     "data": {
      "text/html": [
       "<ol class=list-inline>\n",
       "\t<li>0.59</li>\n",
       "\t<li>0.6388</li>\n",
       "\t<li>0.7824</li>\n",
       "\t<li>0.8148</li>\n",
       "\t<li>0.8364</li>\n",
       "\t<li>0.8568</li>\n",
       "\t<li>0.8692</li>\n",
       "\t<li>0.8744</li>\n",
       "\t<li>0.8968</li>\n",
       "\t<li>0.8956</li>\n",
       "\t<li>0.9008</li>\n",
       "\t<li>0.9064</li>\n",
       "</ol>\n"
      ],
      "text/latex": [
       "\\begin{enumerate*}\n",
       "\\item 0.59\n",
       "\\item 0.6388\n",
       "\\item 0.7824\n",
       "\\item 0.8148\n",
       "\\item 0.8364\n",
       "\\item 0.8568\n",
       "\\item 0.8692\n",
       "\\item 0.8744\n",
       "\\item 0.8968\n",
       "\\item 0.8956\n",
       "\\item 0.9008\n",
       "\\item 0.9064\n",
       "\\end{enumerate*}\n"
      ],
      "text/markdown": [
       "1. 0.59\n",
       "2. 0.6388\n",
       "3. 0.7824\n",
       "4. 0.8148\n",
       "5. 0.8364\n",
       "6. 0.8568\n",
       "7. 0.8692\n",
       "8. 0.8744\n",
       "9. 0.8968\n",
       "10. 0.8956\n",
       "11. 0.9008\n",
       "12. 0.9064\n",
       "\n",
       "\n"
      ],
      "text/plain": [
       " [1] 0.5900 0.6388 0.7824 0.8148 0.8364 0.8568 0.8692 0.8744 0.8968 0.8956\n",
       "[11] 0.9008 0.9064"
      ]
     },
     "metadata": {},
     "output_type": "display_data"
    }
   ],
   "source": [
    "num_samples_test_accs"
   ]
  },
  {
   "cell_type": "code",
   "execution_count": 20,
   "metadata": {
    "collapsed": false,
    "deletable": true,
    "editable": true
   },
   "outputs": [
    {
     "name": "stdout",
     "output_type": "stream",
     "text": [
      "[1] 1\n",
      "[1] 0.952\n"
     ]
    }
   ],
   "source": [
    "clf = randomForest(as.factor(target)~., data=train, sampsize = 5000, ntree=1000, nodesize=1, importance=T)\n",
    "test_prediction = predict(clf, test_X, predict.all=T)\n",
    "train_prediction = predict(clf, X, predict.all=T)\n",
    "train_result = table(data.frame(train_prediction$aggregate)==t)\n",
    "test_result = table(data.frame(test_prediction$aggregate)==test_t)\n",
    "train_acc = as.double((train_result['TRUE'])/((train_result['FALSE'] + train_result['TRUE'])))\n",
    "if (is.na(train_acc))\n",
    "    train_acc = 1\n",
    "test_acc = as.double((test_result['TRUE'])/((test_result['FALSE'] + test_result['TRUE'])))\n",
    "if (is.na(test_acc))\n",
    "    test_acc = 1\n",
    "print(train_acc)\n",
    "print(test_acc)"
   ]
  },
  {
   "cell_type": "code",
   "execution_count": 116,
   "metadata": {
    "collapsed": false
   },
   "outputs": [
    {
     "data": {
      "image/png": "[encoded data removed]",
      "text/plain": [
       "plot without title"
      ]
     },
     "metadata": {},
     "output_type": "display_data"
    },
    {
     "data": {
      "image/png": "[encoded data removed]",
      "text/plain": [
       "plot without title"
      ]
     },
     "metadata": {},
     "output_type": "display_data"
    },
    {
     "data": {
      "image/png": "[encoded data removed]",
      "text/plain": [
       "plot without title"
      ]
     },
     "metadata": {},
     "output_type": "display_data"
    },
    {
     "data": {
      "image/png": "[encoded data removed]",
      "text/plain": [
       "plot without title"
      ]
     },
     "metadata": {},
     "output_type": "display_data"
    }
   ],
   "source": [
    "for (k in seq(1,4))\n",
    "    reprtree:::plot.getTree(clf, k=k)"
   ]
  },
  {
   "cell_type": "code",
   "execution_count": null,
   "metadata": {
    "collapsed": true,
    "deletable": true,
    "editable": true
   },
   "outputs": [],
   "source": []
  }
 ],
 "metadata": {
  "kernelspec": {
   "display_name": "R",
   "language": "R",
   "name": "ir"
  },
  "language_info": {
   "codemirror_mode": "r",
   "file_extension": ".r",
   "mimetype": "text/x-r-source",
   "name": "R",
   "pygments_lexer": "r",
   "version": "3.3.2"
  }
 },
 "nbformat": 4,
 "nbformat_minor": 2
}
